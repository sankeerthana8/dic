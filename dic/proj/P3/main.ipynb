{
 "cells": [
  {
   "cell_type": "code",
   "execution_count": null,
   "metadata": {},
   "outputs": [],
   "source": [
    "# imports\n",
    "import pandas as pd\n",
    "import numpy as np\n",
    "from sklearn.model_selection import train_test_split\n",
    "from sklearn import  metrics\n",
    "from sklearn.preprocessing import OneHotEncoder\n",
    "from sklearn.model_selection import cross_val_score\n",
    "from sklearn.model_selection import KFold\n",
    "from numpy import mean\n",
    "from numpy import absolute\n",
    "from numpy import sqrt\n",
    "import matplotlib.pyplot as plt\n",
    "import seaborn as sns\n",
    "%matplotlib inline\n"
   ]
  },
  {
   "cell_type": "markdown",
   "metadata": {},
   "source": [
    "LOADING THE DATA"
   ]
  },
  {
   "cell_type": "code",
   "execution_count": null,
   "metadata": {},
   "outputs": [],
   "source": [
    "\n",
    "df = pd.read_csv('Sales.csv')\n",
    "\n",
    "df.head()\n",
    "\n"
   ]
  },
  {
   "cell_type": "markdown",
   "metadata": {},
   "source": [
    "INFORMATION ABOUT THE DATA"
   ]
  },
  {
   "cell_type": "code",
   "execution_count": null,
   "metadata": {},
   "outputs": [],
   "source": [
    "df.info()"
   ]
  },
  {
   "cell_type": "code",
   "execution_count": null,
   "metadata": {},
   "outputs": [],
   "source": [
    "df.drop_duplicates()"
   ]
  },
  {
   "cell_type": "markdown",
   "metadata": {},
   "source": [
    "CHECKING IF THERE ARE ANY MISSING VALUES"
   ]
  },
  {
   "cell_type": "markdown",
   "metadata": {},
   "source": [
    "CHECKING FOR DISTRIBUTION OF ITEM_WEIGHT VARIABLES IN THE DATASET"
   ]
  },
  {
   "cell_type": "code",
   "execution_count": null,
   "metadata": {},
   "outputs": [],
   "source": [
    "df[\"Item_Weight\"].plot()\n",
    "\n",
    "plt.show()\n"
   ]
  },
  {
   "cell_type": "code",
   "execution_count": null,
   "metadata": {},
   "outputs": [],
   "source": [
    "df.isna().sum()"
   ]
  },
  {
   "cell_type": "markdown",
   "metadata": {},
   "source": [
    "REPLACING ALL THE NULL VALUES WITH THE MEAN"
   ]
  },
  {
   "cell_type": "code",
   "execution_count": null,
   "metadata": {},
   "outputs": [],
   "source": [
    "\n",
    "df['Item_Weight'].fillna(df['Item_Weight'].mean(),inplace=True)\n",
    "df['Item_Visibility'] = df['Item_Visibility'].replace(0.000000,df['Item_Visibility'].mean())\n",
    "df.head()\n"
   ]
  },
  {
   "cell_type": "code",
   "execution_count": null,
   "metadata": {},
   "outputs": [],
   "source": [
    "\n",
    "ef=df.groupby(['Outlet_Size','Outlet_Type']).size()\n",
    "ef=ef.unstack()\n",
    "ef.plot(kind='bar')\n"
   ]
  },
  {
   "cell_type": "code",
   "execution_count": null,
   "metadata": {},
   "outputs": [],
   "source": [
    "df.head(10)"
   ]
  },
  {
   "cell_type": "markdown",
   "metadata": {},
   "source": []
  },
  {
   "cell_type": "markdown",
   "metadata": {},
   "source": [
    "MODE OF OUTLET SIZE\n"
   ]
  },
  {
   "cell_type": "code",
   "execution_count": null,
   "metadata": {},
   "outputs": [],
   "source": [
    "\n",
    "d={}\n",
    "d['Grocery Store']='Small'\n",
    "d['Supermarket Type1']='Small'\n",
    "d['Supermarket Type2']='Medium'\n",
    "d['Supermarket Type3']='Medium'\n",
    "\n",
    "def fillvalue(x):\n",
    "        return d[x]\n",
    "\n",
    "\n",
    "fk1=df['Outlet_Size'].isnull()\n",
    "# print(fk1)\n",
    "\n",
    "df.loc[fk1,'Outlet_Size']=df.loc[fk1,'Outlet_Type'].apply(lambda x: fillvalue(x))\n",
    "\n",
    "df.head(10)      \n",
    "                       \n"
   ]
  },
  {
   "cell_type": "code",
   "execution_count": null,
   "metadata": {},
   "outputs": [],
   "source": [
    "\n",
    "df['Item_Fat_Content'] = df['Item_Fat_Content'].replace(['LF'],'Low Fat')\n",
    "df['Item_Fat_Content'] = df['Item_Fat_Content'].replace(['reg'],'Regular')\n",
    "df['Item_Fat_Content'] = df['Item_Fat_Content'].replace(['low fat'],'Low Fat')\n",
    "\n",
    "print(df['Item_Fat_Content'].unique())\n",
    "\n",
    "\n",
    "# print(df[84])\n",
    "df.head(77)"
   ]
  },
  {
   "cell_type": "code",
   "execution_count": null,
   "metadata": {},
   "outputs": [],
   "source": [
    "df['Outlet_Size'] = df['Outlet_Size'].replace(['High'],'Large')\n",
    "\n",
    "df['Outlet_Size'].unique()"
   ]
  },
  {
   "cell_type": "code",
   "execution_count": null,
   "metadata": {},
   "outputs": [],
   "source": [
    "\n",
    "change_lists = df.columns[df.dtypes == \"object\"].tolist()\n",
    "\n",
    "change_lists.remove('Item_Identifier')\n",
    "# print(change_lists)\n",
    "\n",
    "for i in change_lists:\n",
    "    df[i] = df[i].astype(\"category\")\n",
    "\n",
    "df.head()    \n",
    "        "
   ]
  },
  {
   "cell_type": "code",
   "execution_count": null,
   "metadata": {},
   "outputs": [],
   "source": [
    "df.info()"
   ]
  },
  {
   "cell_type": "code",
   "execution_count": null,
   "metadata": {},
   "outputs": [],
   "source": [
    "df.drop_duplicates()\n"
   ]
  },
  {
   "cell_type": "code",
   "execution_count": null,
   "metadata": {},
   "outputs": [],
   "source": [
    "\n",
    "\n",
    "df['Item_Weight'].info()\n",
    "df['Item_Weight'] = df['Item_Weight'].map(lambda x: round(x,2))\n",
    "df['Item_Visibility'] = df['Item_Visibility'].map(lambda x: round(x,3))\n",
    "\n",
    "df.head()\n"
   ]
  },
  {
   "cell_type": "code",
   "execution_count": null,
   "metadata": {},
   "outputs": [],
   "source": [
    "df.describe()\n"
   ]
  },
  {
   "cell_type": "code",
   "execution_count": null,
   "metadata": {},
   "outputs": [],
   "source": [
    "# df.drop(['Item_Identifier','Outlet_Identifier','Item_Fat_Content','Item_Visibility'],axis=1,inplace=True)\n",
    "# df.head()"
   ]
  },
  {
   "cell_type": "code",
   "execution_count": null,
   "metadata": {},
   "outputs": [],
   "source": [
    "# category_columns = df.select_dtypes(['category']).columns\n",
    "# df.info()\n",
    "# df.to_csv('epic2.csv')"
   ]
  },
  {
   "cell_type": "code",
   "execution_count": null,
   "metadata": {},
   "outputs": [],
   "source": [
    "df.drop_duplicates(inplace=True)\n",
    "df1=df.duplicated()\n",
    "df.info()\n"
   ]
  },
  {
   "cell_type": "code",
   "execution_count": null,
   "metadata": {},
   "outputs": [],
   "source": [
    "df.info()"
   ]
  },
  {
   "cell_type": "markdown",
   "metadata": {},
   "source": [
    "EDA"
   ]
  },
  {
   "cell_type": "code",
   "execution_count": null,
   "metadata": {},
   "outputs": [],
   "source": [
    "df.describe()"
   ]
  },
  {
   "cell_type": "code",
   "execution_count": null,
   "metadata": {},
   "outputs": [],
   "source": [
    "df.isna()"
   ]
  },
  {
   "cell_type": "code",
   "execution_count": null,
   "metadata": {},
   "outputs": [],
   "source": [
    "df.info()"
   ]
  },
  {
   "cell_type": "code",
   "execution_count": null,
   "metadata": {},
   "outputs": [],
   "source": [
    "df_num = df.select_dtypes(include = ['float64', 'int64'])\n",
    "df_num.head()"
   ]
  },
  {
   "cell_type": "code",
   "execution_count": null,
   "metadata": {},
   "outputs": [],
   "source": [
    "heat_map=df.corr()\n",
    "plt.figure(figsize= (16,9))\n",
    "sns.heatmap(heat_map, annot = True,)\n",
    "plt.title('Heat Map')\n",
    "plt.show()\n",
    "# plt.savefig('HeatMap.png')"
   ]
  },
  {
   "cell_type": "code",
   "execution_count": null,
   "metadata": {},
   "outputs": [],
   "source": [
    "plt.figure(figsize=(9, 8))\n",
    "sns.displot(df['Item_Outlet_Sales'], color='g',kde=True)\n",
    "plt.title(\"Outlet Sales\")"
   ]
  },
  {
   "cell_type": "code",
   "execution_count": null,
   "metadata": {},
   "outputs": [],
   "source": [
    "df_num.hist(figsize=(16, 20), bins=50, xlabelsize=8, ylabelsize=8)"
   ]
  },
  {
   "cell_type": "code",
   "execution_count": null,
   "metadata": {},
   "outputs": [],
   "source": [
    "sns.pairplot(df)\n",
    "plt.show()"
   ]
  },
  {
   "cell_type": "code",
   "execution_count": null,
   "metadata": {},
   "outputs": [],
   "source": [
    "sns.displot(df['Item_Weight'], color='g',kde=True)\n",
    "plt.title(\"Item Weight\")\n",
    "# plt.savefig('USales.png')      \n",
    "        "
   ]
  },
  {
   "cell_type": "code",
   "execution_count": null,
   "metadata": {},
   "outputs": [],
   "source": [
    "sns.displot(df['Item_Visibility'], color='g',kde=True)\n",
    "plt.title(\"Item Visibility\")\n",
    "# plt.savefig('UItem_visibility.png')"
   ]
  },
  {
   "cell_type": "code",
   "execution_count": null,
   "metadata": {},
   "outputs": [],
   "source": [
    "sns.displot(df['Outlet_Establishment_Year'], color='g',kde=True)\n",
    "plt.title(\"Outlet Establishment Year\")\n",
    "# plt.savefig('UOutlet_Est.png')"
   ]
  },
  {
   "cell_type": "code",
   "execution_count": null,
   "metadata": {},
   "outputs": [],
   "source": [
    "sns.displot(df['Item_MRP'], color='g',kde=True)\n",
    "plt.title(\"Item Mrp\")\n",
    "# plt.savefig('UItem_Mrp.png')\n",
    "# 'Item_MRP'"
   ]
  },
  {
   "cell_type": "code",
   "execution_count": null,
   "metadata": {},
   "outputs": [],
   "source": [
    "\n",
    "df['Item_Type'].value_counts().plot(kind='bar')\n",
    "plt.xlabel(\"Food items\")\n",
    "plt.ylabel(\"Count\")\n",
    "plt.title(\"Item type\")\n",
    "# plt.savefig('UItem_type.png')\n"
   ]
  },
  {
   "cell_type": "code",
   "execution_count": null,
   "metadata": {},
   "outputs": [],
   "source": [
    "df['Item_Fat_Content'].value_counts().plot(kind='bar')\n",
    "plt.xlabel(\"Fat Content types\")\n",
    "plt.ylabel(\"Count\")\n",
    "plt.title(\"Item Fat Content\")\n",
    "# plt.savefig('ULow fat.png')\n"
   ]
  },
  {
   "cell_type": "code",
   "execution_count": null,
   "metadata": {},
   "outputs": [],
   "source": [
    "df['Outlet_Size'].value_counts().plot(kind='bar')\n",
    "plt.xlabel(\"Outlet size types\")\n",
    "plt.ylabel(\"Count\")\n",
    "plt.title(\"Outlet Size\")\n",
    "# plt.savefig('UoutletSize.png')"
   ]
  },
  {
   "cell_type": "code",
   "execution_count": null,
   "metadata": {},
   "outputs": [],
   "source": [
    "df['Outlet_Type'].value_counts().plot(kind='bar')\n",
    "plt.xlabel(\"Outlet types\")\n",
    "plt.ylabel(\"Count\")\n",
    "plt.title(\"Outlet Type\")\n",
    "# plt.savefig('Uoutlettype.png')"
   ]
  },
  {
   "cell_type": "code",
   "execution_count": null,
   "metadata": {},
   "outputs": [],
   "source": [
    "df['Outlet_Location_Type'].value_counts().plot(kind='bar')\n",
    "plt.xlabel(\"Outlet Location types\")\n",
    "plt.ylabel(\"Count\")\n",
    "plt.title(\"Outlet Location\")\n",
    "# plt.savefig('Uoutletlocation.png')"
   ]
  },
  {
   "cell_type": "code",
   "execution_count": null,
   "metadata": {},
   "outputs": [],
   "source": [
    "df['Outlet_Identifier'].value_counts().plot(kind='bar',title=\"Outlet Identifier\",xlabel=\"outlets\",ylabel='count')\n",
    "\n",
    "# plt.savefig('Uoutletidentifier.png')"
   ]
  },
  {
   "cell_type": "code",
   "execution_count": null,
   "metadata": {},
   "outputs": [],
   "source": []
  },
  {
   "cell_type": "code",
   "execution_count": null,
   "metadata": {},
   "outputs": [],
   "source": [
    "plt.show()"
   ]
  },
  {
   "cell_type": "code",
   "execution_count": null,
   "metadata": {},
   "outputs": [],
   "source": [
    "# plt.figure(figsize=(16,19))\n",
    "# ef=df.groupby(['Item_Outlet_Sales','Outlet_Type',]).size()\n",
    "# ef=ef.unstack()\n",
    "# ef.plot(kind='bar',figsize=(6,9))\n",
    "\n",
    "# df.plot(x=df['Outlet_Type'], y='col_name_2')\n",
    "# plt.scatter(df['Outlet_Type'],df['Item_Outlet_Sales'] )\n",
    "\n",
    "\n",
    "\n",
    "plt.scatter(df['Outlet_Type'],df['Item_Outlet_Sales'],)\n",
    "# plt.setp\n",
    "plt.xticks(rotation=90)\n",
    "plt.title(\"Outlet Type vs Item Outlet Sales\")\n",
    "plt.xlabel('Outlet_Type')\n",
    "plt.ylabel('Outlet_Sales')\n",
    "plt.show()\n",
    "# plt.savefig('Boutltet_type&sales.png')\n",
    "\n"
   ]
  },
  {
   "cell_type": "code",
   "execution_count": null,
   "metadata": {},
   "outputs": [],
   "source": [
    "from matplotlib.pyplot import xlabel, ylabel\n",
    "\n",
    "\n",
    "# plt.scatter(df['Item_Weight'],df['Item_Outlet_Sales'])\n",
    "\n",
    "\n",
    "plt.scatter(df['Item_Weight'],df['Item_Outlet_Sales'],)\n",
    "# plt.setp\n",
    "plt.xticks(rotation=90)\n",
    "plt.title(\"Item Weight vs Item outlet sales\")\n",
    "plt.xlabel(\"item weight\")\n",
    "plt.ylabel(\"sales\")\n",
    "plt.show()\n",
    "# plt.savefig('Boutltet_weight&sales.png')"
   ]
  },
  {
   "cell_type": "code",
   "execution_count": null,
   "metadata": {},
   "outputs": [],
   "source": [
    "# df.plot(x='Item_Type', y='Item_Outlet_Sales', style='o')\n",
    "\n",
    "plt.scatter(df['Item_Outlet_Sales'],df['Item_Type'])\n",
    "\n",
    "\n",
    "# plt.bar(df['Item_Type'],df['Item_Outlet_Sales'],)\n",
    "# plt.setp\n",
    "plt.xticks(rotation=90)\n",
    "plt.title(\"Item Type vs Item outlet sales\")\n",
    "plt.xlabel(\"Sales\")\n",
    "plt.ylabel(\"Food types\")\n",
    "plt.show()\n",
    "# plt.savefig('Boutltet_item_type&sales.png')\n",
    "# df.value_counts(\"Item_Type\", \"Item_Outlet_Sales\")\n"
   ]
  },
  {
   "cell_type": "code",
   "execution_count": null,
   "metadata": {},
   "outputs": [],
   "source": [
    "plt.scatter(df['Outlet_Type'],(df['Item_Outlet_Sales']))\n",
    "plt.xlabel(\"Sales\")\n",
    "plt.ylabel(\"Outlet_Type\")\n",
    "plt.title(\"outlet type vs sales\")\n",
    "# plt.bar(df['Item_Type'],df['Item_Weight'])\n",
    "# # plt.setp\n",
    "# plt.xticks(rotation=90)\n",
    "plt.show()\n",
    "# plt.savefig('Boutltet_type&sales.png')\n",
    "# plt.setp(df.get_xticklabels(), rotation=30, horizontalalignment='right')\n"
   ]
  },
  {
   "cell_type": "code",
   "execution_count": null,
   "metadata": {},
   "outputs": [],
   "source": [
    "\n",
    "# plt.scatter(df['Item_Outlet_Sales'],df['Item_Type'])\n",
    "\n",
    "plt.scatter(df['Outlet_Location_Type'],df['Item_Outlet_Sales'],)\n",
    "# plt.setp\n",
    "plt.xticks(rotation=90)\n",
    "plt.xlabel(\"Outlet_Location_Type\")\n",
    "plt.ylabel(\"Sales\")\n",
    "plt.title(\"outlet location type vs sales\")\n",
    "plt.show()\n",
    "# plt.savefig('Boutltet_loc&sales.png')\n"
   ]
  },
  {
   "cell_type": "code",
   "execution_count": null,
   "metadata": {},
   "outputs": [],
   "source": [
    "\n",
    "plt.scatter(df['Outlet_Establishment_Year'],df['Item_Outlet_Sales'],)\n",
    "# plt.setp\n",
    "plt.xticks(rotation=90)\n",
    "plt.ylabel('Sales')\n",
    "plt.xlabel('Outlet_Establishment_year')\n",
    "plt.title(\"Outlet_Establishment_year vs Sales\")\n",
    "# plt.savefig('Outlet_Establishment_year  vs Sales.png')\n",
    "plt.show()"
   ]
  },
  {
   "cell_type": "code",
   "execution_count": null,
   "metadata": {},
   "outputs": [],
   "source": [
    "\n",
    "plt.scatter(df['Item_Fat_Content'],df['Item_Outlet_Sales'])\n",
    "# plt.setp\n",
    "plt.xticks(rotation=90)\n",
    "plt.ylabel('Sales')\n",
    "plt.xlabel('Item Fat content')\n",
    "plt.title(\"Item Fat Content vs Sales\")\n",
    "# plt.savefig('Item Fat Content  vs Sales.png')\n",
    "plt.show()"
   ]
  },
  {
   "cell_type": "code",
   "execution_count": null,
   "metadata": {},
   "outputs": [],
   "source": [
    "plt.scatter(df['Item_Visibility'],df['Item_Outlet_Sales'])\n",
    "# plt.setp\n",
    "plt.xticks(rotation=90)\n",
    "plt.ylabel('Sales')\n",
    "plt.xlabel('Item Visibility')\n",
    "plt.title(\"Item Visibility vs Sales\")\n",
    "# plt.savefig('Item Visibility  vs Sales.png')\n",
    "plt.show()"
   ]
  },
  {
   "cell_type": "code",
   "execution_count": null,
   "metadata": {},
   "outputs": [],
   "source": [
    "plt.scatter(df['Outlet_Identifier'],df['Item_Outlet_Sales'])\n",
    "# plt.setp\n",
    "plt.xticks(rotation=90)\n",
    "plt.ylabel('Sales')\n",
    "plt.xlabel('Outlet_Identifier')\n",
    "plt.title(\"Outlet Identifier vs Sales\")\n",
    "# plt.savefig('Outlet Identifier vs Sales.png')\n",
    "plt.show()"
   ]
  },
  {
   "cell_type": "code",
   "execution_count": null,
   "metadata": {},
   "outputs": [],
   "source": [
    "\n",
    "plt.scatter(df['Outlet_Size'],df['Item_Outlet_Sales'])\n",
    "plt.ylabel('Sales')\n",
    "plt.xlabel('Outlet_Size')\n",
    "plt.title(\"Outlet Size vs Sales\")\n",
    "# plt.savefig('Outlet Size vs Sales.png')\n",
    "# plt.setp\n",
    "# plt.xticks(rotation=90)\n",
    "# plt.show()"
   ]
  },
  {
   "cell_type": "code",
   "execution_count": null,
   "metadata": {},
   "outputs": [],
   "source": [
    "df.groupby(['Outlet_Type','Outlet_Location_Type']).agg({'Item_Outlet_Sales':np.mean}).plot.bar()\n",
    "plt.ylabel('Sales')\n",
    "X=plt.gca().xaxis"
   ]
  },
  {
   "cell_type": "code",
   "execution_count": null,
   "metadata": {},
   "outputs": [],
   "source": [
    "df.groupby(['Outlet_Size','Outlet_Location_Type']).agg({'Item_Outlet_Sales':np.mean}).plot.bar()\n",
    "plt.ylabel('Sales')"
   ]
  },
  {
   "cell_type": "code",
   "execution_count": null,
   "metadata": {},
   "outputs": [],
   "source": []
  },
  {
   "cell_type": "code",
   "execution_count": null,
   "metadata": {},
   "outputs": [],
   "source": [
    "# df.pairplot()\n",
    "df.head()"
   ]
  },
  {
   "cell_type": "markdown",
   "metadata": {},
   "source": [
    "DATA CLEANING (ENCODING AND OUTLIER DECTECTION)"
   ]
  },
  {
   "cell_type": "code",
   "execution_count": null,
   "metadata": {},
   "outputs": [],
   "source": [
    "\n",
    "df['Item_Type']=df['Item_Type'].replace(to_replace =['Dairy','Baking Goods','Meat' ,'Breads','Seafood',\n",
    "                                                     'Starchy Foods','Breakfast','Fruits and Vegetables','Household'] ,\n",
    "                                        value = 'Household_Items')\n",
    "\n",
    "\n",
    "df['Item_Type']=df['Item_Type'].replace(to_replace =['Frozen Foods' , 'Canned','Snack Foods'] ,\n",
    "                                        value = 'Snack_Items')\n",
    "\n",
    "\n",
    "df['Item_Type']=df['Item_Type'].replace(to_replace =['Soft Drinks' , 'Hard Drinks','Health and Hygiene','Others'] ,\n",
    "                                        value = 'Other_Items')\n",
    "\n",
    "\n",
    "\n",
    "df['Outlet_Establishment_Year'] = 2022 - df['Outlet_Establishment_Year']\n",
    "\n",
    "\n",
    "columns = df.select_dtypes(['category']).columns\n",
    "df[columns] = df[columns].apply(lambda x: x.cat.codes)\n",
    "\n",
    "\n",
    "df\n",
    "# df.columns"
   ]
  },
  {
   "cell_type": "code",
   "execution_count": null,
   "metadata": {},
   "outputs": [],
   "source": [
    "enc=OneHotEncoder()\n",
    "onehot1=pd.DataFrame(enc.fit_transform(df[['Outlet_Size']]).toarray())\n",
    "\n",
    "df['Outlet_Large']=onehot1[0]\n",
    "df['Outlet_Medium']=onehot1[1]\n",
    "df['Outlet_Small']=onehot1[2]\n",
    "df"
   ]
  },
  {
   "cell_type": "code",
   "execution_count": null,
   "metadata": {},
   "outputs": [],
   "source": [
    "df.drop(['Outlet_Size'],axis=1)"
   ]
  },
  {
   "cell_type": "code",
   "execution_count": null,
   "metadata": {},
   "outputs": [],
   "source": [
    "df.head()"
   ]
  },
  {
   "cell_type": "code",
   "execution_count": null,
   "metadata": {},
   "outputs": [],
   "source": [
    "plt.figure(figsize= (45,9))\n",
    "# plt.figure(figsize= (35,19))\n",
    "sns.boxplot(data=df)\n",
    "# plt.savefig('Outliers1.png')"
   ]
  },
  {
   "cell_type": "code",
   "execution_count": null,
   "metadata": {},
   "outputs": [],
   "source": [
    "def removeOutliers(dataframe):\n",
    "    \n",
    "    a1 = np.quantile(dataframe, 0.25)\n",
    "    a2 = np.quantile(dataframe, 0.75)\n",
    "    \n",
    "    IQR = a2-a1\n",
    " \n",
    "    low = a1 - 1.5 * IQR\n",
    "    high = a2 + 1.5 * IQR\n",
    "    \n",
    "    return low,high\n",
    "    \n",
    " \n",
    "\n",
    "l1,h1=removeOutliers(df['Item_Outlet_Sales'])\n",
    "df['Item_Outlet_Sales']= np.where(df['Item_Outlet_Sales']>h1,h1,df['Item_Outlet_Sales'])\n",
    "df['Item_Outlet_Sales']= np.where(df['Item_Outlet_Sales']<l1,l1,df['Item_Outlet_Sales'])\n",
    "\n",
    "# l2,h2=removeOutliers(df['Item_Visibility'])\n",
    "# df['Item_Visibility']= np.where(df['Item_Visibility']>h2,h2,df['Item_Visibility'])\n",
    "# df['Item_Visibility']= np.where(df['Item_Visibility']<l2,l2,df['Item_Visibility'])\n"
   ]
  },
  {
   "cell_type": "code",
   "execution_count": null,
   "metadata": {},
   "outputs": [],
   "source": [
    "plt.figure(figsize= (45,9))\n",
    "# plt.figure(figsize= (35,19))\n",
    "sns.boxplot(data=df)\n",
    "# plt.savefig('Outliers2.png')"
   ]
  },
  {
   "cell_type": "code",
   "execution_count": null,
   "metadata": {},
   "outputs": [],
   "source": [
    "df.to_csv('cleaned_sales_dataframe.csv',index=False)"
   ]
  },
  {
   "cell_type": "code",
   "execution_count": null,
   "metadata": {},
   "outputs": [],
   "source": [
    "\n",
    "# df_phase3=df\n",
    "\n",
    "normalize_numbers=['Item_Weight','Item_Visibility','Item_MRP']\n",
    "\n",
    "# min_d = np.min(df)o\n",
    "# max_d = np.max(df)\n",
    "\n",
    "# normalized_d = (df - min_d) / (max_d - min_d)\n",
    "minimum=df[normalize_numbers].min()\n",
    "maximum=df[normalize_numbers].max()\n",
    "\n",
    "# df.head()\n",
    "# for i in df.columns:\n",
    "#     df[i] =np.log(df[i])\n"
   ]
  },
  {
   "cell_type": "code",
   "execution_count": null,
   "metadata": {},
   "outputs": [],
   "source": [
    "df[normalize_numbers]=(df[normalize_numbers]-df[normalize_numbers].min())/(df[normalize_numbers].max()-df[normalize_numbers].min())\n",
    "\n",
    "\n",
    "# df[normalize_numbers] = df[normalize_numbers] * (maximum - minimum) + minimum\n",
    "df.head()"
   ]
  },
  {
   "cell_type": "code",
   "execution_count": null,
   "metadata": {},
   "outputs": [],
   "source": [
    "df.head()\n"
   ]
  },
  {
   "cell_type": "markdown",
   "metadata": {},
   "source": [
    "PHASE-2"
   ]
  },
  {
   "cell_type": "code",
   "execution_count": null,
   "metadata": {},
   "outputs": [],
   "source": [
    "X=df.drop(['Item_Identifier','Outlet_Identifier','Item_Fat_Content','Outlet_Size','Outlet_Identifier','Item_Outlet_Sales'],axis=1)\n",
    "Y=df['Item_Outlet_Sales']\n",
    "\n",
    "\n",
    "\n",
    "# train_df = df[df['source'] == 'train']\n",
    "# test_df = df[df['source'] == 'test']\n",
    "\n",
    "# print(X.head())\n",
    "X_train,X_test,Y_train,Y_test = train_test_split(X,Y,test_size=0.2,random_state=2)\n",
    "\n",
    "# X_train = X_train.values.reshape(-1,1)\n",
    "\n",
    "# X_test = X_test.values.reshape(-1,1)\n",
    "# X_train\n",
    "X_train.values[0]\n",
    "\n",
    "# y_test\n",
    "# y_test\n",
    "\n",
    "\n",
    "\n",
    "\n"
   ]
  },
  {
   "cell_type": "code",
   "execution_count": null,
   "metadata": {},
   "outputs": [],
   "source": [
    "X_train.columns"
   ]
  },
  {
   "cell_type": "code",
   "execution_count": null,
   "metadata": {},
   "outputs": [],
   "source": [
    "from sklearn.linear_model import LinearRegression,Ridge\n",
    "from sklearn.tree import DecisionTreeRegressor\n",
    "from sklearn.ensemble import RandomForestRegressor\n",
    "from XGboost import XGBRegressor\n",
    "from sklearn import neighbors\n",
    "from sklearn.linear_model import Lasso\n",
    "from sklearn.metrics import r2_score\n",
    "# sklearn.metrics.get_scorer_names()\n"
   ]
  },
  {
   "cell_type": "code",
   "execution_count": null,
   "metadata": {},
   "outputs": [],
   "source": [
    "import plotly.express as px\n",
    "\n",
    "rmse_values={}\n",
    "mae_values={}\n",
    "r2_score_values={}\n",
    "\n",
    "def model_details(model,name):\n",
    "    \n",
    "    model.fit(X_train,Y_train)\n",
    "        \n",
    "   \n",
    "    \n",
    "    predicted_train = model.predict(X_train)\n",
    "    \n",
    "    #Perform cross-validation:\n",
    "    cv_score = cross_val_score(model, X_train, Y_train, cv=10, scoring='neg_mean_squared_error')\n",
    "    cv_score = np.sqrt(np.abs(cv_score))\n",
    "    \n",
    "    predicted_trained_values=pd.DataFrame(predicted_train,columns=['predicted_train'])\n",
    "    Y_trained_values=list(Y_train.values)\n",
    "    predicted_trained_values['Y_trained_values']=Y_trained_values\n",
    "    dataframe=predicted_trained_values\n",
    "    dataframe=dataframe.iloc[:15]\n",
    "    true_value=dataframe['Y_trained_values']\n",
    "    predicted_value=dataframe['predicted_train']\n",
    "    plt.plot(true_value)\n",
    "    plt.plot(predicted_value)\n",
    "    plt.ylabel('Item Outlet Sales')\n",
    "    plt.legend(['Actual','Predicted'])\n",
    "    plt.title(f\"Actual vs Predicted in Trained Data for {name}\",fontsize=16)\n",
    "    plt.show()\n",
    "    # plt.savefig(f\"train data for {name}\")\n",
    "   \n",
    "    print(name,\" Algorithm Model Report for trained Data\")\n",
    "    print(\"RMSE :\",np.sqrt(metrics.mean_squared_error(Y_train, predicted_train)))\n",
    "    print(\"MAE\",np.sqrt(metrics.mean_absolute_error(Y_train, predicted_train)))\n",
    "    print(\"r2_score\",metrics.r2_score(Y_train,predicted_train))\n",
    "    print(\"CV Score : Mean - %.4g | Std - %.4g | Min - %.4g | Max - %.4g\" % (np.mean(cv_score),np.std(cv_score),np.min(cv_score),np.max(cv_score)))\n",
    "         \n",
    "         \n",
    "   \n",
    "    predicted_test = model.predict(X_test)\n",
    "    \n",
    "    predicted_test_values=pd.DataFrame(predicted_test,columns=['predicted_test'])\n",
    "    true_values=list(Y_test.values)\n",
    "    predicted_test_values['true_value']=true_values\n",
    "    dataframe2=predicted_test_values\n",
    "    dataframe2=dataframe2.iloc[:15]\n",
    "    true_values=dataframe2['true_value']\n",
    "    predicted_value_test=dataframe2['predicted_test']\n",
    "    plt.plot(true_value)\n",
    "    plt.plot(predicted_value_test)\n",
    "    plt.ylabel('Item Outlet Sales')\n",
    "    plt.legend(['Actual','Predicted'])\n",
    "    plt.title(f\"Actual vs Predicted in Test Data for {name}\",fontsize=16)\n",
    "    plt.show()\n",
    "    # plt.savefig(f\"test data for {name}\")\n",
    "         \n",
    "    print(name,\" Algorithm Model Report for test Data\") \n",
    "    print(\"RMSE for testing data : \" ,np.sqrt(metrics.mean_squared_error(Y_test, predicted_test)))\n",
    "    print(\"MAE\",np.sqrt(metrics.mean_absolute_error(Y_test, predicted_test))) \n",
    "    print(\"r2_score\",metrics.r2_score(Y_test,predicted_test)) \n",
    "    \n",
    "    \n",
    "    \n",
    "    \n",
    "    if(name not in rmse_values):\n",
    "        rmse_values[name]=np.sqrt(metrics.mean_squared_error(Y_test, predicted_test))\n",
    "        \n",
    "    if(name not in mae_values):\n",
    "        mae_values[name]=metrics.mean_absolute_error(Y_test, predicted_test)\n",
    "        \n",
    "    if(name not in r2_score_values):\n",
    "        r2_score_values[name]=r2_score(Y_test, predicted_test) \n",
    "        \n",
    "\n",
    "# coef=pd.Series(model2.coef_,X_train.columns).sort_values()\n",
    "# coef.plot(kind='bar',title='model coefficients')\n",
    "   \n",
    "        \n",
    "    \n",
    "        \n",
    "    # plt.plot(Y_train)\n",
    "    # plt.plot(predicted_train)\n",
    "    # plt.ylabel('Item Outlet Sales')\n",
    "    # plt.legend(['Actual Values','Predicted Values'])\n",
    "    # plt.title(\"Actual values vs Predicted values \",fontsize=16)\n",
    "    # plt.show()\n",
    "    # plt.savefig(name)\n",
    "    \n",
    "    \n",
    "  \n",
    "\n",
    "    "
   ]
  },
  {
   "cell_type": "code",
   "execution_count": null,
   "metadata": {},
   "outputs": [],
   "source": [
    "def residual_loss(model,name):\n",
    "        residue = Y_test - model.predict(X_test)\n",
    "        plt.scatter(Y_test,residue, c = \"blue\")\n",
    "        plt.xlabel(f\"Residual Plot for {name}\")\n",
    "        plt.ylabel(\"y_test\")\n",
    "        plt.axhline(y = 0)\n",
    "        # plt.savefig(f\"residual {name}\")\n",
    "       "
   ]
  },
  {
   "cell_type": "code",
   "execution_count": null,
   "metadata": {},
   "outputs": [],
   "source": [
    "model1=neighbors.KNeighborsRegressor(n_neighbors = 20)\n",
    "model_details(model1,\"KNN\")\n",
    "print()\n",
    "\n"
   ]
  },
  {
   "cell_type": "code",
   "execution_count": null,
   "metadata": {},
   "outputs": [],
   "source": [
    "model2= LinearRegression()\n",
    "model2.fit(X_train,Y_train)\n",
    "\n",
    "model_details(model2,\"LR\")\n",
    "\n",
    "coef=pd.Series(model2.coef_,X_train.columns).sort_values()\n",
    "coef.plot(kind='bar',title='model coefficients') \n",
    "\n",
    "\n",
    "# residual_loss(model2)\n"
   ]
  },
  {
   "cell_type": "code",
   "execution_count": null,
   "metadata": {},
   "outputs": [],
   "source": [
    "model3= RandomForestRegressor(n_estimators=400,max_depth=7, min_samples_leaf=100,n_jobs=4)\n",
    "model_details(model3,\"RF\")\n",
    "coef1 = pd.Series(model3.feature_importances_,X_train.columns).sort_values()\n",
    "coef1.plot(kind='bar', title='Model Coefficients for train data')\n",
    "\n"
   ]
  },
  {
   "cell_type": "code",
   "execution_count": null,
   "metadata": {},
   "outputs": [],
   "source": [
    "model4= Lasso()\n",
    "model_details(model4,\"Lasso\")\n",
    "\n",
    "coef1 = pd.Series(model4.coef_,X_train.columns).sort_values()\n",
    "coef1.plot(kind='bar', title='Model Coefficients')\n",
    "\n"
   ]
  },
  {
   "cell_type": "code",
   "execution_count": null,
   "metadata": {},
   "outputs": [],
   "source": [
    "from sklearn.pipeline import make_pipeline\n",
    "from sklearn.preprocessing import StandardScaler\n",
    "\n",
    "model5=Ridge(alpha=0.05,normalize=False)\n",
    "model5 = make_pipeline(StandardScaler(with_mean=False), Ridge())\n",
    "model_details(model5,\"Ridge\")\n",
    "\n",
    "\n"
   ]
  },
  {
   "cell_type": "code",
   "execution_count": null,
   "metadata": {},
   "outputs": [],
   "source": [
    "model6 = DecisionTreeRegressor(max_depth=7, min_samples_leaf=100)\n",
    "model_details(model6,\"DecisionTree\")\n"
   ]
  },
  {
   "cell_type": "code",
   "execution_count": null,
   "metadata": {},
   "outputs": [],
   "source": [
    "model7 = XGBRegressor()\n",
    "model_details(model7,\"Xgboost\")"
   ]
  },
  {
   "cell_type": "code",
   "execution_count": null,
   "metadata": {},
   "outputs": [],
   "source": [
    "residual_loss(model1,\"KNN\")"
   ]
  },
  {
   "cell_type": "code",
   "execution_count": null,
   "metadata": {},
   "outputs": [],
   "source": [
    "residual_loss(model2,\"LR\")"
   ]
  },
  {
   "cell_type": "code",
   "execution_count": null,
   "metadata": {},
   "outputs": [],
   "source": [
    "residual_loss(model3,\"RandomForestRegressor\")"
   ]
  },
  {
   "cell_type": "code",
   "execution_count": null,
   "metadata": {},
   "outputs": [],
   "source": [
    "residual_loss(model4,\"Lasso\")"
   ]
  },
  {
   "cell_type": "code",
   "execution_count": null,
   "metadata": {},
   "outputs": [],
   "source": [
    "residual_loss(model5,\"Ridge\")"
   ]
  },
  {
   "cell_type": "code",
   "execution_count": null,
   "metadata": {},
   "outputs": [],
   "source": [
    "residual_loss(model6,\"Decision Tree Regressor\")"
   ]
  },
  {
   "cell_type": "code",
   "execution_count": null,
   "metadata": {},
   "outputs": [],
   "source": [
    "import matplotlib.pylab as plt\n",
    "\n",
    "lists = sorted(rmse_values.items()) \n",
    "\n",
    "x, y = zip(*lists)\n",
    "plt.plot(x, y)\n",
    "plt.show()"
   ]
  },
  {
   "cell_type": "code",
   "execution_count": null,
   "metadata": {},
   "outputs": [],
   "source": [
    "\n",
    "plt.plot(*zip(*sorted(r2_score_values.items())))"
   ]
  },
  {
   "cell_type": "code",
   "execution_count": null,
   "metadata": {},
   "outputs": [],
   "source": [
    "\n",
    "plt.plot(*zip(*sorted(mae_values.items())))\n",
    "\n"
   ]
  }
 ],
 "metadata": {
  "kernelspec": {
   "display_name": "Python 3.10.6 64-bit",
   "language": "python",
   "name": "python3"
  },
  "language_info": {
   "codemirror_mode": {
    "name": "ipython",
    "version": 3
   },
   "file_extension": ".py",
   "mimetype": "text/x-python",
   "name": "python",
   "nbconvert_exporter": "python",
   "pygments_lexer": "ipython3",
   "version": "3.10.6"
  },
  "vscode": {
   "interpreter": {
    "hash": "fbc768028c3e6ead51d9a200ddcb2ec858ae62844dcd1994729a8279be9b48f2"
   }
  }
 },
 "nbformat": 4,
 "nbformat_minor": 2
}
