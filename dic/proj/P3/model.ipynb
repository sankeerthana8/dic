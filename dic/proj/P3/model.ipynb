{
 "cells": [
  {
   "cell_type": "code",
   "execution_count": 1,
   "metadata": {},
   "outputs": [],
   "source": [
    "import pickle\n",
    "from sklearn.ensemble import RandomForestRegressor\n",
    "from sklearn.model_selection import train_test_split\n",
    "import pandas as pd"
   ]
  },
  {
   "cell_type": "code",
   "execution_count": 2,
   "metadata": {},
   "outputs": [],
   "source": [
    "df1 = pd.read_csv('cleaned_sales_dataframe.csv')\n",
    "\n",
    "X1=df1.drop(['Item_Identifier','Outlet_Identifier','Item_Fat_Content','Outlet_Size','Outlet_Identifier','Item_Outlet_Sales'],axis=1)\n",
    "Y1=df1['Item_Outlet_Sales']\n",
    "\n",
    "X_train1,X_test1,Y_train1,Y_test1 = train_test_split(X1,Y1,test_size=0.2,random_state=2)\n",
    "model= RandomForestRegressor(n_estimators=400,max_depth=7, min_samples_leaf=100,n_jobs=4)\n",
    "\n",
    "model.fit(X_train1.values,Y_train1.values)\n",
    "\n",
    "with open('saved_file.pkl','wb') as file:\n",
    "        pickle.dump(model,file)"
   ]
  }
 ],
 "metadata": {
  "kernelspec": {
   "display_name": "Python 3.10.7 64-bit",
   "language": "python",
   "name": "python3"
  },
  "language_info": {
   "codemirror_mode": {
    "name": "ipython",
    "version": 3
   },
   "file_extension": ".py",
   "mimetype": "text/x-python",
   "name": "python",
   "nbconvert_exporter": "python",
   "pygments_lexer": "ipython3",
   "version": "3.10.7"
  },
  "orig_nbformat": 4,
  "vscode": {
   "interpreter": {
    "hash": "aee8b7b246df8f9039afb4144a1f6fd8d2ca17a180786b69acc140d282b71a49"
   }
  }
 },
 "nbformat": 4,
 "nbformat_minor": 2
}
